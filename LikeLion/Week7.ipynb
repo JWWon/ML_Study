{
 "cells": [
  {
   "cell_type": "code",
   "execution_count": 19,
   "metadata": {},
   "outputs": [],
   "source": [
    "from urllib.request import urlopen\n",
    "from urllib import parse\n",
    "\n",
    "from bs4 import BeautifulSoup\n",
    "\n",
    "from tqdm import *\n",
    "import time"
   ]
  },
  {
   "cell_type": "code",
   "execution_count": 41,
   "metadata": {},
   "outputs": [],
   "source": [
    "url = 'https://ko.wikipedia.org/wiki/%EB%84%A4%EC%9D%B4%EB%A7%88%EB%A5%B4'"
   ]
  },
  {
   "cell_type": "code",
   "execution_count": 42,
   "metadata": {
    "collapsed": true
   },
   "outputs": [],
   "source": [
    "# 해당 페이지에 request\n",
    "web_page = urlopen(url) #request\n",
    "\n",
    "# BeautifulSoup로 페이지 소스를 가져옴\n",
    "soup_xml = BeautifulSoup(web_page, \"lxml\") #response"
   ]
  },
  {
   "cell_type": "code",
   "execution_count": 75,
   "metadata": {},
   "outputs": [],
   "source": [
    "topics = soup_xml.select('span.toctext')"
   ]
  },
  {
   "cell_type": "code",
   "execution_count": 76,
   "metadata": {},
   "outputs": [
    {
     "data": {
      "text/plain": [
       "[<span class=\"toctext\">클럽 경력</span>,\n",
       " <span class=\"toctext\">국가대표 경력</span>,\n",
       " <span class=\"toctext\">기타</span>,\n",
       " <span class=\"toctext\">수상</span>,\n",
       " <span class=\"toctext\">클럽</span>,\n",
       " <span class=\"toctext\">국가대표팀</span>,\n",
       " <span class=\"toctext\">개인</span>]"
      ]
     },
     "execution_count": 76,
     "metadata": {},
     "output_type": "execute_result"
    }
   ],
   "source": [
    "topics"
   ]
  },
  {
   "cell_type": "code",
   "execution_count": null,
   "metadata": {},
   "outputs": [],
   "source": []
  },
  {
   "cell_type": "code",
   "execution_count": null,
   "metadata": {
    "collapsed": true
   },
   "outputs": [],
   "source": []
  }
 ],
 "metadata": {
  "kernelspec": {
   "display_name": "Python 3",
   "language": "python",
   "name": "python3"
  },
  "language_info": {
   "codemirror_mode": {
    "name": "ipython",
    "version": 3
   },
   "file_extension": ".py",
   "mimetype": "text/x-python",
   "name": "python",
   "nbconvert_exporter": "python",
   "pygments_lexer": "ipython3",
   "version": "3.6.1"
  }
 },
 "nbformat": 4,
 "nbformat_minor": 2
}
