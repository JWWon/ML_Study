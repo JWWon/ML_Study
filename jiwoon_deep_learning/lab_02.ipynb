{
 "cells": [
  {
   "cell_type": "code",
   "execution_count": 1,
   "metadata": {
    "collapsed": true
   },
   "outputs": [],
   "source": [
    "import tensorflow as tf"
   ]
  },
  {
   "cell_type": "code",
   "execution_count": 2,
   "metadata": {
    "collapsed": true
   },
   "outputs": [],
   "source": [
    "x_train = [1, 2, 3, 4]\n",
    "y_train = [2, 3, 4, 5]"
   ]
  },
  {
   "cell_type": "code",
   "execution_count": 5,
   "metadata": {
    "collapsed": true
   },
   "outputs": [],
   "source": [
    "W = tf.Variable(tf.random_normal([1]), name='weight')\n",
    "b = tf.Variable(tf.random_normal([1]), name='bias')\n",
    "hypothesis = x_train*W + b\n",
    "cost = tf.reduce_mean(tf.square(hypothesis - y_train))"
   ]
  },
  {
   "cell_type": "code",
   "execution_count": 6,
   "metadata": {
    "collapsed": true
   },
   "outputs": [],
   "source": [
    "# Minimize\n",
    "optimizer = tf.train.GradientDescentOptimizer(learning_rate=0.01)\n",
    "train = optimizer.minimize(cost)"
   ]
  },
  {
   "cell_type": "code",
   "execution_count": 7,
   "metadata": {
    "collapsed": true
   },
   "outputs": [],
   "source": [
    "# Launch the graph\n",
    "sess = tf.Session()\n",
    "sess.run(tf.global_variables_initializer())"
   ]
  },
  {
   "cell_type": "code",
   "execution_count": 9,
   "metadata": {},
   "outputs": [
    {
     "name": "stdout",
     "output_type": "stream",
     "text": [
      "0 3.78241e-07 [ 0.99948812] [ 1.0015049]\n",
      "20 3.35429e-07 [ 0.99951786] [ 1.00141728]\n",
      "40 2.97505e-07 [ 0.99954599] [ 1.00133479]\n",
      "60 2.63959e-07 [ 0.9995724] [ 1.00125718]\n",
      "80 2.34225e-07 [ 0.99959719] [ 1.00118411]\n",
      "100 2.07666e-07 [ 0.99962068] [ 1.0011152]\n",
      "120 1.84305e-07 [ 0.99964267] [ 1.00105035]\n",
      "140 1.63425e-07 [ 0.99966347] [ 1.00098932]\n",
      "160 1.45006e-07 [ 0.99968296] [ 1.00093174]\n",
      "180 1.28675e-07 [ 0.99970144] [ 1.00087774]\n",
      "200 1.14188e-07 [ 0.99971873] [ 1.00082672]\n",
      "220 1.01267e-07 [ 0.99973518] [ 1.00077856]\n",
      "240 8.9822e-08 [ 0.99975067] [ 1.00073326]\n",
      "260 7.97362e-08 [ 0.99976498] [ 1.00069082]\n",
      "280 7.06548e-08 [ 0.99977863] [ 1.00065064]\n",
      "300 6.27023e-08 [ 0.99979162] [ 1.00061274]\n",
      "320 5.56111e-08 [ 0.99980354] [ 1.00057709]\n",
      "340 4.93723e-08 [ 0.99981505] [ 1.00054371]\n",
      "360 4.38404e-08 [ 0.99982578] [ 1.00051236]\n",
      "380 3.89117e-08 [ 0.99983585] [ 1.00048256]\n",
      "400 3.45095e-08 [ 0.99984539] [ 1.00045443]\n",
      "420 3.06251e-08 [ 0.99985427] [ 1.0004282]\n",
      "440 2.7175e-08 [ 0.99986285] [ 1.00040352]\n",
      "460 2.40758e-08 [ 0.99987084] [ 1.00037968]\n",
      "480 2.14504e-08 [ 0.99987811] [ 1.0003581]\n",
      "500 1.90118e-08 [ 0.99988526] [ 1.00033712]\n",
      "520 1.68684e-08 [ 0.99989182] [ 1.00031805]\n",
      "540 1.49552e-08 [ 0.9998982] [ 1.0002991]\n",
      "560 1.33294e-08 [ 0.99990404] [ 1.00028241]\n",
      "580 1.18024e-08 [ 0.99990964] [ 1.00026572]\n",
      "600 1.0488e-08 [ 0.99991477] [ 1.00025046]\n",
      "620 9.32728e-09 [ 0.99991953] [ 1.00023615]\n",
      "640 8.25158e-09 [ 0.9999243] [ 1.00022197]\n",
      "660 7.35078e-09 [ 0.99992865] [ 1.00020993]\n",
      "680 6.55666e-09 [ 0.99993265] [ 1.00019801]\n",
      "700 5.77927e-09 [ 0.99993658] [ 1.00018609]\n",
      "720 5.14167e-09 [ 0.99994034] [ 1.00017548]\n",
      "740 4.59649e-09 [ 0.99994367] [ 1.00016594]\n",
      "760 4.08497e-09 [ 0.99994683] [ 1.0001564]\n",
      "780 3.59638e-09 [ 0.99995005] [ 1.00014687]\n",
      "800 3.17694e-09 [ 0.99995309] [ 1.00013793]\n",
      "820 2.85662e-09 [ 0.99995548] [ 1.00013077]\n",
      "840 2.55336e-09 [ 0.99995786] [ 1.00012362]\n",
      "860 2.26716e-09 [ 0.99996024] [ 1.00011647]\n",
      "880 1.998e-09 [ 0.99996263] [ 1.00010931]\n",
      "900 1.75716e-09 [ 0.99996501] [ 1.0001024]\n",
      "920 1.55622e-09 [ 0.99996722] [ 1.00009656]\n",
      "940 1.40666e-09 [ 0.99996883] [ 1.00009179]\n",
      "960 1.26822e-09 [ 0.99997044] [ 1.00008702]\n",
      "980 1.12989e-09 [ 0.99997199] [ 1.00008225]\n",
      "1000 1.00307e-09 [ 0.9999736] [ 1.00007749]\n"
     ]
    }
   ],
   "source": [
    "# Fit the line\n",
    "for step in range(1001):\n",
    "    sess.run(train)\n",
    "    if step%20 == 0:\n",
    "        print(step, sess.run(cost), sess.run(W), sess.run(b))"
   ]
  },
  {
   "cell_type": "code",
   "execution_count": null,
   "metadata": {
    "collapsed": true
   },
   "outputs": [],
   "source": []
  }
 ],
 "metadata": {
  "kernelspec": {
   "display_name": "Python 3",
   "language": "python",
   "name": "python3"
  },
  "language_info": {
   "codemirror_mode": {
    "name": "ipython",
    "version": 3
   },
   "file_extension": ".py",
   "mimetype": "text/x-python",
   "name": "python",
   "nbconvert_exporter": "python",
   "pygments_lexer": "ipython3",
   "version": "3.6.1"
  }
 },
 "nbformat": 4,
 "nbformat_minor": 2
}
