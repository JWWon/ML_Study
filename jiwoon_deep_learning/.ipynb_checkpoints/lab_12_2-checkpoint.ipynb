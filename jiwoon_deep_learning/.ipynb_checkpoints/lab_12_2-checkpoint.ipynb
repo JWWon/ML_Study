{
 "cells": [
  {
   "cell_type": "code",
   "execution_count": 2,
   "metadata": {
    "collapsed": true
   },
   "outputs": [],
   "source": [
    "import tensorflow as tf\n",
    "import numpy as np\n",
    "tf.set_random_seed(777)"
   ]
  },
  {
   "cell_type": "code",
   "execution_count": 3,
   "metadata": {},
   "outputs": [
    {
     "name": "stdout",
     "output_type": "stream",
     "text": [
      "0 loss: 2.49672 Prediction:               \n",
      "1 loss: 2.3542 Prediction:               \n",
      "2 loss: 2.21767 Prediction:               \n",
      "3 loss: 2.08072 Prediction:              e\n",
      "4 loss: 1.86319 Prediction:             me\n",
      "5 loss: 1.58232 Prediction: i      want me\n",
      "6 loss: 1.2515 Prediction: if  ou want me\n",
      "7 loss: 0.951609 Prediction: if you want me\n",
      "8 loss: 0.696882 Prediction: if you want me\n",
      "9 loss: 0.517518 Prediction: if you want me\n",
      "10 loss: 0.35139 Prediction: if you want me\n",
      "11 loss: 0.249625 Prediction: if you want me\n",
      "12 loss: 0.152764 Prediction: if you want me\n",
      "13 loss: 0.0988913 Prediction: if you want me\n",
      "14 loss: 0.0610778 Prediction: if you want me\n",
      "15 loss: 0.0361938 Prediction: if you want me\n",
      "16 loss: 0.0225128 Prediction: if you want me\n",
      "17 loss: 0.0149441 Prediction: if you want me\n",
      "18 loss: 0.0105132 Prediction: if you want me\n",
      "19 loss: 0.00771812 Prediction: if you want me\n",
      "20 loss: 0.00581666 Prediction: if you want me\n",
      "21 loss: 0.0044539 Prediction: if you want me\n",
      "22 loss: 0.00345387 Prediction: if you want me\n",
      "23 loss: 0.0027153 Prediction: if you want me\n",
      "24 loss: 0.00216914 Prediction: if you want me\n",
      "25 loss: 0.00176335 Prediction: if you want me\n",
      "26 loss: 0.00145843 Prediction: if you want me\n",
      "27 loss: 0.00122566 Prediction: if you want me\n",
      "28 loss: 0.00104468 Prediction: if you want me\n",
      "29 loss: 0.000901577 Prediction: if you want me\n",
      "30 loss: 0.000786625 Prediction: if you want me\n",
      "31 loss: 0.000693161 Prediction: if you want me\n",
      "32 loss: 0.000616399 Prediction: if you want me\n",
      "33 loss: 0.000552938 Prediction: if you want me\n",
      "34 loss: 0.0005 Prediction: if you want me\n",
      "35 loss: 0.000455633 Prediction: if you want me\n",
      "36 loss: 0.000418231 Prediction: if you want me\n",
      "37 loss: 0.000386509 Prediction: if you want me\n",
      "38 loss: 0.000359441 Prediction: if you want me\n",
      "39 loss: 0.000336235 Prediction: if you want me\n",
      "40 loss: 0.000316142 Prediction: if you want me\n",
      "41 loss: 0.000298797 Prediction: if you want me\n",
      "42 loss: 0.000283597 Prediction: if you want me\n",
      "43 loss: 0.000270328 Prediction: if you want me\n",
      "44 loss: 0.000258609 Prediction: if you want me\n",
      "45 loss: 0.000248267 Prediction: if you want me\n",
      "46 loss: 0.000239066 Prediction: if you want me\n",
      "47 loss: 0.000230852 Prediction: if you want me\n",
      "48 loss: 0.000223524 Prediction: if you want me\n",
      "49 loss: 0.000216918 Prediction: if you want me\n"
     ]
    }
   ],
   "source": [
    "sample = \" if you want me\"\n",
    "idx2char = list(set(sample))  # index -> char\n",
    "char2idx = {c: i for i, c in enumerate(idx2char)}  # char -> idex\n",
    "\n",
    "# hyper parameters\n",
    "dic_size = len(char2idx)  # RNN input size (one hot size)\n",
    "hidden_size = len(char2idx)  # RNN output size\n",
    "num_classes = len(char2idx)  # final output size (RNN or softmax, etc.)\n",
    "batch_size = 1  # one sample data, one batch\n",
    "sequence_length = len(sample) - 1  # number of lstm rollings (unit #)\n",
    "learning_rate = 0.1\n",
    "\n",
    "sample_idx = [char2idx[c] for c in sample]  # char to index\n",
    "x_data = [sample_idx[:-1]]  # X data sample (0 ~ n-1) hello: hell\n",
    "y_data = [sample_idx[1:]]   # Y label sample (1 ~ n) hello: ello\n",
    "\n",
    "X = tf.placeholder(tf.int32, [None, sequence_length])  # X data\n",
    "Y = tf.placeholder(tf.int32, [None, sequence_length])  # Y label\n",
    "\n",
    "x_one_hot = tf.one_hot(X, num_classes)  # one hot: 1 -> 0 1 0 0 0 0 0 0 0 0\n",
    "cell = tf.contrib.rnn.BasicLSTMCell(\n",
    "    num_units=hidden_size, state_is_tuple=True)\n",
    "initial_state = cell.zero_state(batch_size, tf.float32)\n",
    "outputs, _states = tf.nn.dynamic_rnn(\n",
    "    cell, x_one_hot, initial_state=initial_state, dtype=tf.float32)\n",
    "\n",
    "# FC layer\n",
    "X_for_fc = tf.reshape(outputs, [-1, hidden_size])\n",
    "outputs = tf.contrib.layers.fully_connected(X_for_fc, num_classes, activation_fn=None)\n",
    "\n",
    "# reshape out for sequence_loss\n",
    "outputs = tf.reshape(outputs, [batch_size, sequence_length, num_classes])\n",
    "\n",
    "weights = tf.ones([batch_size, sequence_length])\n",
    "sequence_loss = tf.contrib.seq2seq.sequence_loss(\n",
    "    logits=outputs, targets=Y, weights=weights)\n",
    "loss = tf.reduce_mean(sequence_loss)\n",
    "train = tf.train.AdamOptimizer(learning_rate=learning_rate).minimize(loss)\n",
    "\n",
    "prediction = tf.argmax(outputs, axis=2)\n",
    "\n",
    "with tf.Session() as sess:\n",
    "    sess.run(tf.global_variables_initializer())\n",
    "    for i in range(50):\n",
    "        l, _ = sess.run([loss, train], feed_dict={X: x_data, Y: y_data})\n",
    "        result = sess.run(prediction, feed_dict={X: x_data})\n",
    "\n",
    "        # print char using dic\n",
    "        result_str = [idx2char[c] for c in np.squeeze(result)]\n",
    "\n",
    "        print(i, \"loss:\", l, \"Prediction:\", ''.join(result_str))"
   ]
  },
  {
   "cell_type": "code",
   "execution_count": null,
   "metadata": {
    "collapsed": true
   },
   "outputs": [],
   "source": []
  }
 ],
 "metadata": {
  "kernelspec": {
   "display_name": "Python 3",
   "language": "python",
   "name": "python3"
  },
  "language_info": {
   "codemirror_mode": {
    "name": "ipython",
    "version": 3
   },
   "file_extension": ".py",
   "mimetype": "text/x-python",
   "name": "python",
   "nbconvert_exporter": "python",
   "pygments_lexer": "ipython3",
   "version": "3.6.1"
  }
 },
 "nbformat": 4,
 "nbformat_minor": 2
}
