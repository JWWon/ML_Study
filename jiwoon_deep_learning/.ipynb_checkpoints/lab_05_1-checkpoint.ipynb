{
 "cells": [
  {
   "cell_type": "code",
   "execution_count": 16,
   "metadata": {
    "collapsed": true
   },
   "outputs": [],
   "source": [
    "import tensorflow as tf\n",
    "\n",
    "x_data = [[1, 2], [2, 3], [3, 1], [4, 3], [5, 3], [6, 2]]\n",
    "y_data = [[0], [0], [0], [1], [1], [1]]"
   ]
  },
  {
   "cell_type": "code",
   "execution_count": 20,
   "metadata": {},
   "outputs": [],
   "source": [
    "# placeholders for a tensor that will be always fed.\n",
    "X = tf.placeholder(tf.float32, shape=[None, 2])\n",
    "Y = tf.placeholder(tf.float32, shape=[None, 1])\n",
    "\n",
    "W = tf.Variable(tf.random_normal([2, 1]), name='weight')\n",
    "b = tf.Variable(tf.random_normal([1]), name='bias')\n",
    "\n",
    "# Hypothesis using sigmoid: tf.div(1., 1. + tf.exp(tf.matmul(X, W)))\n",
    "hypothesis = tf.sigmoid(tf.matmul(X, W) + b)\n",
    "\n",
    "# cost/loss function\n",
    "cost = -tf.reduce_mean(Y * tf.log(hypothesis) + (1 - Y) *\n",
    "                       tf.log(1 - hypothesis))"
   ]
  },
  {
   "cell_type": "code",
   "execution_count": 18,
   "metadata": {
    "collapsed": true
   },
   "outputs": [],
   "source": [
    "train = tf.train.GradientDescentOptimizer(learning_rate=0.01).minimize(cost)\n",
    "\n",
    "predicted = tf.cast(hypothesis > 0.5, dtype=tf.float32)\n",
    "accuracy = tf.reduce_mean(tf.cast(tf.equal(predicted, Y), dtype=tf.float32))"
   ]
  },
  {
   "cell_type": "code",
   "execution_count": 19,
   "metadata": {},
   "outputs": [
    {
     "name": "stdout",
     "output_type": "stream",
     "text": [
      "0 0.900915\n",
      "200 0.589096\n",
      "400 0.465539\n",
      "600 0.41173\n",
      "800 0.382577\n",
      "1000 0.36333\n",
      "1200 0.348654\n",
      "1400 0.336375\n",
      "1600 0.325518\n",
      "1800 0.315605\n",
      "2000 0.306387\n",
      "2200 0.297726\n",
      "2400 0.289536\n",
      "2600 0.281763\n",
      "2800 0.274368\n",
      "3000 0.267321\n",
      "3200 0.260598\n",
      "3400 0.254178\n",
      "3600 0.248043\n",
      "3800 0.242175\n",
      "4000 0.236559\n",
      "4200 0.231181\n",
      "4400 0.226028\n",
      "4600 0.221087\n",
      "4800 0.216346\n",
      "5000 0.211795\n",
      "5200 0.207424\n",
      "5400 0.203223\n",
      "5600 0.199182\n",
      "5800 0.195294\n",
      "6000 0.191551\n",
      "6200 0.187945\n",
      "6400 0.184469\n",
      "6600 0.181117\n",
      "6800 0.177882\n",
      "7000 0.17476\n",
      "7200 0.171743\n",
      "7400 0.168828\n",
      "7600 0.16601\n",
      "7800 0.163283\n",
      "8000 0.160644\n",
      "8200 0.158089\n",
      "8400 0.155614\n",
      "8600 0.153215\n",
      "8800 0.150889\n",
      "9000 0.148633\n",
      "9200 0.146444\n",
      "9400 0.144318\n",
      "9600 0.142254\n",
      "9800 0.140249\n",
      "10000 0.1383\n",
      "\n",
      "Hypothesis:  [[ 0.0261755 ]\n",
      " [ 0.15215929]\n",
      " [ 0.28221416]\n",
      " [ 0.7919299 ]\n",
      " [ 0.94602662]\n",
      " [ 0.98235494]] \n",
      "Correct (Y):  [[ 0.]\n",
      " [ 0.]\n",
      " [ 0.]\n",
      " [ 1.]\n",
      " [ 1.]\n",
      " [ 1.]] \n",
      "Accuracy:  1.0\n"
     ]
    }
   ],
   "source": [
    "with tf.Session() as sess:\n",
    "    sess.run(tf.global_variables_initializer())\n",
    "    \n",
    "    for step in range(10001):\n",
    "        cost_val, _ = sess.run([cost, train], feed_dict={X: x_data, Y: y_data})\n",
    "        if step % 200 == 0:\n",
    "            print(step, cost_val)\n",
    "    \n",
    "    # Accuracy report\n",
    "    h, c, a = sess.run([hypothesis, predicted, accuracy],\n",
    "                      feed_dict={X: x_data, Y: y_data})\n",
    "    print(\"\\nHypothesis: \", h, \"\\nCorrect (Y): \", c, \"\\nAccuracy: \", a)"
   ]
  },
  {
   "cell_type": "code",
   "execution_count": null,
   "metadata": {
    "collapsed": true
   },
   "outputs": [],
   "source": []
  }
 ],
 "metadata": {
  "kernelspec": {
   "display_name": "Python 3",
   "language": "python",
   "name": "python3"
  },
  "language_info": {
   "codemirror_mode": {
    "name": "ipython",
    "version": 3
   },
   "file_extension": ".py",
   "mimetype": "text/x-python",
   "name": "python",
   "nbconvert_exporter": "python",
   "pygments_lexer": "ipython3",
   "version": "3.6.1"
  }
 },
 "nbformat": 4,
 "nbformat_minor": 2
}
