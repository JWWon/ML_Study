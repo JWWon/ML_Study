{
 "cells": [
  {
   "cell_type": "code",
   "execution_count": 1,
   "metadata": {
    "collapsed": true
   },
   "outputs": [],
   "source": [
    "import tensorflow as tf\n",
    "\n",
    "x_data = [[1, 2, 1, 1],\n",
    "          [2, 1, 3, 2],\n",
    "          [3, 1, 3, 4],\n",
    "          [4, 1, 5, 5],\n",
    "          [1, 7, 5, 5],\n",
    "          [1, 2, 5, 6],\n",
    "          [1, 6, 6, 6],\n",
    "          [1, 7, 7, 7]]\n",
    "y_data = [[0, 0, 1],\n",
    "          [0, 0, 1],\n",
    "          [0, 0, 1],\n",
    "          [0, 1, 0],\n",
    "          [0, 1, 0],\n",
    "          [0, 1, 0],\n",
    "          [1, 0, 0],\n",
    "          [1, 0, 0]]"
   ]
  },
  {
   "cell_type": "code",
   "execution_count": 2,
   "metadata": {
    "collapsed": true
   },
   "outputs": [],
   "source": [
    "X = tf.placeholder(tf.float32, [None, 4])\n",
    "Y = tf.placeholder(tf.float32, [None, 3])\n",
    "nb_classes = 3\n",
    "\n",
    "W = tf.Variable(tf.random_normal([4, nb_classes]), name='weight')\n",
    "b = tf.Variable(tf.random_normal([nb_classes]), name='bias')"
   ]
  },
  {
   "cell_type": "code",
   "execution_count": 3,
   "metadata": {
    "collapsed": true
   },
   "outputs": [],
   "source": [
    "hypothesis = tf.nn.softmax(tf.matmul(X, W) + b)\n",
    "\n",
    "cost = tf.reduce_mean(-tf.reduce_sum(Y * tf.log(hypothesis), axis=1))\n",
    "optimizer = tf.train.GradientDescentOptimizer(learning_rate=0.1).minimize(cost)"
   ]
  },
  {
   "cell_type": "code",
   "execution_count": 4,
   "metadata": {},
   "outputs": [
    {
     "name": "stdout",
     "output_type": "stream",
     "text": [
      "0 6.73274\n",
      "200 0.563146\n",
      "400 0.451299\n",
      "600 0.370672\n",
      "800 0.29488\n",
      "1000 0.241216\n",
      "1200 0.217742\n",
      "1400 0.198377\n",
      "1600 0.182103\n",
      "1800 0.16823\n",
      "2000 0.156266\n",
      "2200 0.145846\n",
      "2400 0.136693\n",
      "2600 0.128593\n",
      "2800 0.121375\n",
      "3000 0.114906\n",
      "3200 0.109076\n",
      "3400 0.103797\n",
      "3600 0.0989943\n",
      "3800 0.0946076\n",
      "4000 0.0905856\n",
      "4200 0.0868854\n",
      "4400 0.0834702\n",
      "4600 0.0803086\n",
      "4800 0.0773738\n",
      "5000 0.0746423\n",
      "5200 0.0720942\n",
      "5400 0.0697115\n",
      "5600 0.0674789\n",
      "5800 0.0653829\n",
      "6000 0.0634114\n",
      "6200 0.0615535\n",
      "6400 0.0597999\n",
      "6600 0.0581421\n",
      "6800 0.0565726\n",
      "7000 0.0550846\n",
      "7200 0.053672\n",
      "7400 0.0523289\n",
      "7600 0.0510508\n",
      "7800 0.0498328\n",
      "8000 0.0486711\n",
      "8200 0.0475617\n",
      "8400 0.0465011\n",
      "8600 0.0454863\n",
      "8800 0.0445144\n",
      "9000 0.0435827\n",
      "9200 0.0426888\n",
      "9400 0.0418304\n",
      "9600 0.0410057\n",
      "9800 0.0402125\n",
      "10000 0.0394491\n"
     ]
    }
   ],
   "source": [
    "with tf.Session() as sess:\n",
    "    sess.run(tf.global_variables_initializer())\n",
    "    \n",
    "    for step in range(10001):\n",
    "        sess.run(optimizer, feed_dict={X: x_data, Y: y_data})\n",
    "        if step%200 == 0:\n",
    "            print(step, sess.run(cost, feed_dict={X: x_data, Y: y_data}))"
   ]
  },
  {
   "cell_type": "code",
   "execution_count": null,
   "metadata": {
    "collapsed": true
   },
   "outputs": [],
   "source": []
  }
 ],
 "metadata": {
  "kernelspec": {
   "display_name": "Python 3",
   "language": "python",
   "name": "python3"
  },
  "language_info": {
   "codemirror_mode": {
    "name": "ipython",
    "version": 3
   },
   "file_extension": ".py",
   "mimetype": "text/x-python",
   "name": "python",
   "nbconvert_exporter": "python",
   "pygments_lexer": "ipython3",
   "version": "3.6.1"
  }
 },
 "nbformat": 4,
 "nbformat_minor": 2
}
