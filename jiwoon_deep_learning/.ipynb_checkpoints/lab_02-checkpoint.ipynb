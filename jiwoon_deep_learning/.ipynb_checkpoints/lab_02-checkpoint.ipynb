{
 "cells": [
  {
   "cell_type": "code",
   "execution_count": 1,
   "metadata": {
    "collapsed": true
   },
   "outputs": [],
   "source": [
    "import tensorflow as tf"
   ]
  },
  {
   "cell_type": "code",
   "execution_count": 2,
   "metadata": {
    "collapsed": true
   },
   "outputs": [],
   "source": [
    "x_train = [1, 2, 3, 4]\n",
    "y_train = [2, 3, 4, 5]"
   ]
  },
  {
   "cell_type": "code",
   "execution_count": 5,
   "metadata": {
    "collapsed": true
   },
   "outputs": [],
   "source": [
    "W = tf.Variable(tf.random_normal([1]), name='weight')\n",
    "b = tf.Variable(tf.random_normal([1]), name='bias')\n",
    "hypothesis = x_train*W + b\n",
    "cost = tf.reduce_mean(tf.square(hypothesis - y_train))"
   ]
  },
  {
   "cell_type": "code",
   "execution_count": 6,
   "metadata": {
    "collapsed": true
   },
   "outputs": [],
   "source": [
    "# Minimize\n",
    "optimizer = tf.train.GradientDescentOptimizer(learning_rate=0.01)\n",
    "train = optimizer.minimize(cost)"
   ]
  },
  {
   "cell_type": "code",
   "execution_count": 7,
   "metadata": {
    "collapsed": true
   },
   "outputs": [],
   "source": [
    "# Launch the graph\n",
    "sess = tf.Session()\n",
    "sess.run(tf.global_variables_initializer())"
   ]
  },
  {
   "cell_type": "code",
   "execution_count": 8,
   "metadata": {},
   "outputs": [
    {
     "name": "stdout",
     "output_type": "stream",
     "text": [
      "0 44.3962 [-1.19327688] [ 0.28778005]\n",
      "20 0.0298535 [ 0.93382764] [ 1.00928998]\n",
      "40 0.000140215 [ 0.98940957] [ 1.02634394]\n",
      "60 0.000106736 [ 0.99136436] [ 1.02526569]\n",
      "80 9.46584e-05 [ 0.9919017] [ 1.02380669]\n",
      "100 8.39581e-05 [ 0.992374] [ 1.02242136]\n",
      "120 7.44702e-05 [ 0.99281782] [ 1.02111638]\n",
      "140 6.60551e-05 [ 0.99323589] [ 1.01988733]\n",
      "160 5.85879e-05 [ 0.99362975] [ 1.01872957]\n",
      "180 5.19669e-05 [ 0.99400049] [ 1.01763952]\n",
      "200 4.60927e-05 [ 0.99434966] [ 1.01661277]\n",
      "220 4.0884e-05 [ 0.99467856] [ 1.01564586]\n",
      "240 3.62629e-05 [ 0.9949882] [ 1.01473522]\n",
      "260 3.21647e-05 [ 0.99527997] [ 1.01387739]\n",
      "280 2.85313e-05 [ 0.99555457] [ 1.01307023]\n",
      "300 2.53061e-05 [ 0.99581331] [ 1.01230943]\n",
      "320 2.24455e-05 [ 0.99605697] [ 1.01159298]\n",
      "340 1.9908e-05 [ 0.99628645] [ 1.01091814]\n",
      "360 1.76591e-05 [ 0.99650264] [ 1.01028264]\n",
      "380 1.56627e-05 [ 0.99670619] [ 1.00968421]\n",
      "400 1.38926e-05 [ 0.99689788] [ 1.00912058]\n",
      "420 1.23228e-05 [ 0.99707842] [ 1.00858974]\n",
      "440 1.093e-05 [ 0.99724847] [ 1.00808978]\n",
      "460 9.69469e-06 [ 0.99740863] [ 1.0076189]\n",
      "480 8.59956e-06 [ 0.99755943] [ 1.00717556]\n",
      "500 7.62748e-06 [ 0.99770147] [ 1.00675797]\n",
      "520 6.76583e-06 [ 0.99783528] [ 1.00636458]\n",
      "540 6.00056e-06 [ 0.99796128] [ 1.0059942]\n",
      "560 5.32232e-06 [ 0.9980799] [ 1.00564528]\n",
      "580 4.72107e-06 [ 0.99819165] [ 1.00531673]\n",
      "600 4.18704e-06 [ 0.99829698] [ 1.00500715]\n",
      "620 3.71395e-06 [ 0.99839616] [ 1.00471556]\n",
      "640 3.2943e-06 [ 0.9984895] [ 1.00444102]\n",
      "660 2.92155e-06 [ 0.99857748] [ 1.00418234]\n",
      "680 2.59121e-06 [ 0.99866033] [ 1.00393879]\n",
      "700 2.29807e-06 [ 0.99873829] [ 1.00370955]\n",
      "720 2.03863e-06 [ 0.99881172] [ 1.00349367]\n",
      "740 1.80824e-06 [ 0.9988808] [ 1.00329041]\n",
      "760 1.60392e-06 [ 0.99894595] [ 1.00309896]\n",
      "780 1.42278e-06 [ 0.99900728] [ 1.0029186]\n",
      "800 1.26186e-06 [ 0.99906504] [ 1.00274885]\n",
      "820 1.11926e-06 [ 0.99911946] [ 1.00258887]\n",
      "840 9.92967e-07 [ 0.99917066] [ 1.00243819]\n",
      "860 8.80765e-07 [ 0.99921894] [ 1.00229633]\n",
      "880 7.81156e-07 [ 0.99926436] [ 1.00216281]\n",
      "900 6.93028e-07 [ 0.99930716] [ 1.00203693]\n",
      "920 6.14759e-07 [ 0.99934745] [ 1.00191844]\n",
      "940 5.45042e-07 [ 0.99938542] [ 1.00180674]\n",
      "960 4.83565e-07 [ 0.99942124] [ 1.00170159]\n",
      "980 4.29099e-07 [ 0.99945492] [ 1.00160265]\n",
      "1000 3.80646e-07 [ 0.99948657] [ 1.00150943]\n"
     ]
    }
   ],
   "source": [
    "# Fit the line\n",
    "for step in range(1001):\n",
    "    sess.run(train)\n",
    "    if step%20 == 0:\n",
    "        print(step, sess.run(cost), sess.run(W), sess.run(b))"
   ]
  },
  {
   "cell_type": "code",
   "execution_count": null,
   "metadata": {
    "collapsed": true
   },
   "outputs": [],
   "source": []
  }
 ],
 "metadata": {
  "kernelspec": {
   "display_name": "Python 3",
   "language": "python",
   "name": "python3"
  },
  "language_info": {
   "codemirror_mode": {
    "name": "ipython",
    "version": 3
   },
   "file_extension": ".py",
   "mimetype": "text/x-python",
   "name": "python",
   "nbconvert_exporter": "python",
   "pygments_lexer": "ipython3",
   "version": "3.6.1"
  }
 },
 "nbformat": 4,
 "nbformat_minor": 2
}
